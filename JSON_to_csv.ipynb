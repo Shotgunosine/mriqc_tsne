{
 "cells": [
  {
   "cell_type": "code",
   "execution_count": 18,
   "metadata": {},
   "outputs": [],
   "source": [
    "from pathlib import Path\n",
    "import json\n",
    "import pandas as pd\n",
    "from pandas.io.json import json_normalize\n",
    "from tqdm import tnrange, tqdm_notebook\n"
   ]
  },
  {
   "cell_type": "code",
   "execution_count": 21,
   "metadata": {},
   "outputs": [],
   "source": [
    "json_path = Path('datadump/T2w_2018_12_26.json')\n",
    "out_path = 'all_t2w_2018_12_26.csv'"
   ]
  },
  {
   "cell_type": "code",
   "execution_count": 34,
   "metadata": {},
   "outputs": [],
   "source": [
    "def json_to_csv(json_path, out_path):\n",
    "    json_path = Path(json_path)\n",
    "    json_text = json_path.read_text()\n",
    "    json_lines = json_text.split('\\n')\n",
    "    dat = []\n",
    "    for jl in tqdm_notebook(json_lines, total=len(json_lines)):\n",
    "        if len(jl) > 0:\n",
    "            dat.append(json_normalize(json.loads(jl, parse_constant=parse_infinties)))\n",
    "    dat = pd.concat(dat, sort=False)\n",
    "    dat.to_csv(out_path)\n",
    "    return dat\n",
    "\n",
    "def parse_infinties(x):\n",
    "    if x == '+Infinity':\n",
    "        return np.Inf\n",
    "    elif x == '-Infinity':\n",
    "        return np.NINF\n",
    "    elif x == 'NaN':\n",
    "        return np.nan\n",
    "    else:\n",
    "        raise ValueError('x should be one of +Infinity, -Infinity, or Nan. %s was passed' % str(x))"
   ]
  },
  {
   "cell_type": "code",
   "execution_count": 35,
   "metadata": {},
   "outputs": [
    {
     "data": {
      "application/vnd.jupyter.widget-view+json": {
       "model_id": "b29cfe4db9f54d98aec644542ed6e0ae",
       "version_major": 2,
       "version_minor": 0
      },
      "text/plain": [
       "HBox(children=(IntProgress(value=0, max=1115), HTML(value='')))"
      ]
     },
     "metadata": {},
     "output_type": "display_data"
    }
   ],
   "source": [
    "all_t2s = json_to_csv('datadump/T2w_2018_12_26.json', 'all_t2s_2018_12_26.csv')"
   ]
  },
  {
   "cell_type": "code",
   "execution_count": 38,
   "metadata": {},
   "outputs": [
    {
     "data": {
      "application/vnd.jupyter.widget-view+json": {
       "model_id": "b3219b4ce6574871974aae59b7b351ef",
       "version_major": 2,
       "version_minor": 0
      },
      "text/plain": [
       "HBox(children=(IntProgress(value=0, max=1032818), HTML(value='')))"
      ]
     },
     "metadata": {},
     "output_type": "display_data"
    }
   ],
   "source": [
    "all_t1s = json_to_csv('datadump/T1w_2018_12_26.json', 'all_t1s_2018_12_26.csv')"
   ]
  },
  {
   "cell_type": "code",
   "execution_count": 39,
   "metadata": {},
   "outputs": [
    {
     "name": "stdout",
     "output_type": "stream",
     "text": [
      "t1 done\n"
     ]
    }
   ],
   "source": [
    "print('t1 done')"
   ]
  },
  {
   "cell_type": "code",
   "execution_count": null,
   "metadata": {},
   "outputs": [],
   "source": [
    "all_bold = json_to_csv('datadump/bold_2018_12_26.json', 'all_bolds_2018_12_26.csv')"
   ]
  },
  {
   "cell_type": "code",
   "execution_count": null,
   "metadata": {},
   "outputs": [],
   "source": []
  }
 ],
 "metadata": {
  "kernelspec": {
   "display_name": "Python 3",
   "language": "python",
   "name": "python3"
  },
  "language_info": {
   "codemirror_mode": {
    "name": "ipython",
    "version": 3
   },
   "file_extension": ".py",
   "mimetype": "text/x-python",
   "name": "python",
   "nbconvert_exporter": "python",
   "pygments_lexer": "ipython3",
   "version": "3.7.1"
  }
 },
 "nbformat": 4,
 "nbformat_minor": 2
}
