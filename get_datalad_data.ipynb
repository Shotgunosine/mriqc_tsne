{
 "cells": [
  {
   "cell_type": "code",
   "execution_count": 13,
   "metadata": {
    "ExecuteTime": {
     "end_time": "2018-12-26T21:14:02.539641Z",
     "start_time": "2018-12-26T21:13:58.306754Z"
    }
   },
   "outputs": [],
   "source": [
    "import pandas as pd\n",
    "import datalad as dl\n",
    "from datalad import api as dlapi\n",
    "import json"
   ]
  },
  {
   "cell_type": "code",
   "execution_count": 4,
   "metadata": {},
   "outputs": [],
   "source": [
    "ds = dlapi.Dataset('/Users/nielsond/data/datalad/datasets.datalad.org/')"
   ]
  },
  {
   "cell_type": "code",
   "execution_count": null,
   "metadata": {},
   "outputs": [],
   "source": [
    "! cd {ds}\n",
    "! datalad update --merge -r"
   ]
  },
  {
   "cell_type": "code",
   "execution_count": 5,
   "metadata": {
    "ExecuteTime": {
     "end_time": "2018-12-26T21:11:16.524821Z",
     "start_time": "2018-12-26T21:07:56.964455Z"
    }
   },
   "outputs": [],
   "source": [
    "res = !datalad -f json -c datalad.search.index-egrep-documenttype=all search -d /Users/nielsond/data/datalad/datasets.datalad.org/  path:.*\\.nii.gz"
   ]
  },
  {
   "cell_type": "code",
   "execution_count": 10,
   "metadata": {
    "ExecuteTime": {
     "end_time": "2018-12-26T21:13:41.154912Z",
     "start_time": "2018-12-26T21:13:35.886209Z"
    }
   },
   "outputs": [],
   "source": [
    "jres = []\n",
    "json_start = False\n",
    "for rr in res:\n",
    "    # Wait for the first string that has a curly bracket in it\n",
    "    if json_start:\n",
    "        rd = json.loads(rr)\n",
    "        for mdk, mdv in rd['metadata'].items():\n",
    "            for innerk, innerv in mdv.items():\n",
    "                rd['metadata__' + mdk + '__' + innerk]=innerv\n",
    "        jres.append(rd)\n",
    "    elif '{' in rr:\n",
    "        json_start = True"
   ]
  },
  {
   "cell_type": "code",
   "execution_count": 14,
   "metadata": {
    "ExecuteTime": {
     "end_time": "2018-12-26T21:14:08.001470Z",
     "start_time": "2018-12-26T21:14:02.542124Z"
    }
   },
   "outputs": [],
   "source": [
    "dl_df = pd.DataFrame(jres)"
   ]
  },
  {
   "cell_type": "code",
   "execution_count": 15,
   "metadata": {
    "ExecuteTime": {
     "end_time": "2018-12-26T21:14:16.038981Z",
     "start_time": "2018-12-26T21:14:15.336481Z"
    }
   },
   "outputs": [
    {
     "data": {
      "text/plain": [
       "array(['abide', 'adhd200', 'corr', 'crcns', 'dbic', 'dicoms', 'hbnssi',\n",
       "       'indi', 'labs', 'openfmri', 'openneuro', 'workshops'], dtype=object)"
      ]
     },
     "execution_count": 15,
     "metadata": {},
     "output_type": "execute_result"
    }
   ],
   "source": [
    "# Datasts\n",
    "dl_df.path.str.split('/').str[6].unique()"
   ]
  },
  {
   "cell_type": "code",
   "execution_count": 16,
   "metadata": {
    "ExecuteTime": {
     "end_time": "2018-12-26T21:14:42.082535Z",
     "start_time": "2018-12-26T21:14:41.900817Z"
    }
   },
   "outputs": [],
   "source": [
    "# Figure out which datasets have hashes\n",
    "dl_df['hash'] = dl_df.loc[dl_df.metadata__annex__key.notnull(),'metadata__annex__key'].str.split('--').str[-1].str.split('.').str[0]\n"
   ]
  },
  {
   "cell_type": "code",
   "execution_count": 17,
   "metadata": {
    "ExecuteTime": {
     "end_time": "2018-12-26T21:14:44.721387Z",
     "start_time": "2018-12-26T21:14:42.899422Z"
    }
   },
   "outputs": [
    {
     "data": {
      "text/plain": [
       "array(['crcns', 'dbic', 'dicoms', 'indi', 'labs', 'openfmri', 'openneuro',\n",
       "       'workshops'], dtype=object)"
      ]
     },
     "execution_count": 17,
     "metadata": {},
     "output_type": "execute_result"
    }
   ],
   "source": [
    "dl_df[dl_df.hash.notnull()].path.str.split('/').str[6].unique()"
   ]
  },
  {
   "cell_type": "code",
   "execution_count": 18,
   "metadata": {
    "ExecuteTime": {
     "end_time": "2018-12-26T21:15:16.769021Z",
     "start_time": "2018-12-26T21:15:02.646677Z"
    }
   },
   "outputs": [],
   "source": [
    "dl_df.to_csv('datalad_metadata.csv', index=False)"
   ]
  },
  {
   "cell_type": "code",
   "execution_count": 19,
   "metadata": {
    "ExecuteTime": {
     "end_time": "2018-12-26T21:15:21.771378Z",
     "start_time": "2018-12-26T21:15:16.771610Z"
    }
   },
   "outputs": [
    {
     "name": "stdout",
     "output_type": "stream",
     "text": [
      "********************************** WARNING - WARNING - WARNING ***************************************\n",
      "|                                                                                                    |\n",
      "|     This warning banner provides privacy and security notices consistent with applicable           |\n",
      "|     federal laws, directives, and other federal guidance for accessing this Government system,     |\n",
      "|     which includes (1) this computer network, (2) all computers connected to this network,         |\n",
      "|     and (3) all devices and storage media attached to this network or to a computer on this        |\n",
      "|     network.                                                                                       |\n",
      "|     - This system is provided for Government-authorized use only.                                  |\n",
      "|     - Unauthorized or improper use of this system is prohibited and may result in                  |\n",
      "|       disciplinary action and/or civil and criminal penalties.                                     |\n",
      "|     - Personal use of social media and networking sites on this system is limited as to not        |\n",
      "|       interfere with official work duties and is subject to monitoring.                            |\n",
      "|     - By using this system, you understand and consent to the following:                           |\n",
      "|       - The Government may monitor, record, and audit your system usage,                           |\n",
      "|         including usage of personal devices and email systems for official duties                  |\n",
      "|         or to conduct HHS business. Therefore, you have no reasonable expectation of privacy       |\n",
      "|         regarding any communication or data transiting or stored on this system.                   |\n",
      "|         At any time, and for any lawful Government purpose, the government may monitor,            |\n",
      "|         intercept, and search and seize any communication or data transiting or stored on this     |\n",
      "|         system.                                                                                    |\n",
      "|       - Any communication or data transiting or stored on this system may be disclosed or used     |\n",
      "|         for any lawful Government purpose.                                                         |\n",
      "|                                                                                                    |\n",
      "************************************ WARNING - WARNING - WARNING *************************************\n",
      "\n",
      "\n",
      "\n",
      "/home/nielsond/.bashrc: line 6: /usr/local/fsl/etc/fslconf/fsl.sh: No such file or directory\n",
      "building file list ... done\n",
      "datalad_metadata.csv\n",
      "\n",
      "sent 2420608 bytes  received 125146 bytes  462864.36 bytes/sec\n",
      "total size is 321357200  speedup is 126.23\n"
     ]
    }
   ],
   "source": [
    "!rsync -avcH datalad_metadata.csv prom:/data/nielsond/mriqc/mriqc_tsne/\n",
    "    "
   ]
  },
  {
   "cell_type": "code",
   "execution_count": 57,
   "metadata": {},
   "outputs": [
    {
     "name": "stdout",
     "output_type": "stream",
     "text": [
      " ********************************* WARNING - WARNING - WARNING **************************************\n",
      " |                                                                                                   |\n",
      " |      You are accessing a U.S. Government information system, WARNINGhich includes                 |\n",
      " |      (1) this computer, (2) this computerputer network, (3) all computers connected to            |\n",
      " |      this network, and (4) all devices and storage media attached to this                         |\n",
      " |      network or to a computer on this network.  This information system is provided               |\n",
      " |      for U.S. Government-authorized use only. Unauthorized or  improper use of this               |\n",
      " |      system may result in disciplinary action, as well as civil                                   |\n",
      " |      and criminal penalties.                                                                      |\n",
      " |                                                                                                   |\n",
      " |      By using this information system, you understand and consent to the following.               |\n",
      " |      * You have no reasonable expectation of privacy regarding any communications                 |\n",
      " |        or data transiting or stored on this information system.  At any thisime,                  |\n",
      " |        and for any lawful Government purpose, thisimehe government may monitor,                   |\n",
      " |        intercept, record, and search and seize any communication or data                          |\n",
      " |        transiting or stored on this information system.                                           |\n",
      " |      * Any communication or data transiting or stored on this information                         |\n",
      " |        system may be disclosed or used for any lawful Government purpose.                         |\n",
      " |                                                                                                   |\n",
      " ********************************* WARNING - WARNING - WARNING *************************************\n",
      "receiving file list ... done\n",
      "bold_datalad_and_mriqc.csv\n",
      "t1w_datalad_and_mriqc.csv\n",
      "t2w_datalad_and_mriqc.csv\n",
      "\n",
      "sent 82 bytes  received 104.17M bytes  13.89M bytes/sec\n",
      "total size is 104.14M  speedup is 1.00\n"
     ]
    }
   ],
   "source": [
    "!rsync -avch rot:/roentgenium_data/mriqc/mriqc_tsne/*_datalad_and_mriqc*.csv ."
   ]
  },
  {
   "cell_type": "code",
   "execution_count": null,
   "metadata": {},
   "outputs": [],
   "source": []
  }
 ],
 "metadata": {
  "kernelspec": {
   "display_name": "Python 3",
   "language": "python",
   "name": "python3"
  },
  "language_info": {
   "codemirror_mode": {
    "name": "ipython",
    "version": 3
   },
   "file_extension": ".py",
   "mimetype": "text/x-python",
   "name": "python",
   "nbconvert_exporter": "python",
   "pygments_lexer": "ipython3",
   "version": "3.7.1"
  },
  "toc": {
   "base_numbering": 1,
   "nav_menu": {},
   "number_sections": true,
   "sideBar": true,
   "skip_h1_title": false,
   "title_cell": "Table of Contents",
   "title_sidebar": "Contents",
   "toc_cell": false,
   "toc_position": {},
   "toc_section_display": true,
   "toc_window_display": false
  }
 },
 "nbformat": 4,
 "nbformat_minor": 2
}
